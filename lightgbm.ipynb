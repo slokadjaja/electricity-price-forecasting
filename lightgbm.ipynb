{
 "cells": [
  {
   "metadata": {
    "ExecuteTime": {
     "end_time": "2024-10-28T22:57:32.450246Z",
     "start_time": "2024-10-28T22:57:32.229807Z"
    }
   },
   "cell_type": "code",
   "source": [
    "import matplotlib.pyplot as plt\n",
    "import pandas as pd\n",
    "from sklearn.model_selection import TimeSeriesSplit\n",
    "import optuna\n",
    "import numpy as np\n",
    "import lightgbm as lgb\n",
    "from sklearn.metrics import mean_squared_error"
   ],
   "id": "a34e2da43ad1cf47",
   "outputs": [],
   "execution_count": 17
  },
  {
   "cell_type": "code",
   "id": "initial_id",
   "metadata": {
    "collapsed": true,
    "ExecuteTime": {
     "end_time": "2024-10-28T22:52:39.159475Z",
     "start_time": "2024-10-28T22:52:38.992235Z"
    }
   },
   "source": [
    "X = pd.read_csv('dataset/X_train.csv').set_index('DELIVERY_START')\n",
    "X.index = pd.to_datetime(X.index, utc=True).tz_convert(None)\n",
    "X.head()"
   ],
   "outputs": [
    {
     "data": {
      "text/plain": [
       "                     load_forecast  coal_power_available  gas_power_available  \\\n",
       "DELIVERY_START                                                                  \n",
       "2022-01-01 01:00:00        49439.0                3386.0              11487.0   \n",
       "2022-01-01 02:00:00        46511.0                3386.0              11487.0   \n",
       "2022-01-01 03:00:00        45158.0                3386.0              11487.0   \n",
       "2022-01-01 04:00:00        44779.0                3386.0              11487.0   \n",
       "2022-01-01 05:00:00        45284.0                3386.0              11487.0   \n",
       "\n",
       "                     nucelear_power_available  wind_power_forecasts_average  \\\n",
       "DELIVERY_START                                                                \n",
       "2022-01-01 01:00:00                   44118.0                        3035.0   \n",
       "2022-01-01 02:00:00                   44118.0                        3143.0   \n",
       "2022-01-01 03:00:00                   44118.0                        3288.0   \n",
       "2022-01-01 04:00:00                   44118.0                        3447.0   \n",
       "2022-01-01 05:00:00                   44118.0                        3679.0   \n",
       "\n",
       "                     solar_power_forecasts_average  wind_power_forecasts_std  \\\n",
       "DELIVERY_START                                                                 \n",
       "2022-01-01 01:00:00                            0.0                 79.248348   \n",
       "2022-01-01 02:00:00                            0.0                 61.776532   \n",
       "2022-01-01 03:00:00                            0.0                 44.291112   \n",
       "2022-01-01 04:00:00                            0.0                 36.127588   \n",
       "2022-01-01 05:00:00                            0.0                 30.983023   \n",
       "\n",
       "                     solar_power_forecasts_std  predicted_spot_price  \n",
       "DELIVERY_START                                                        \n",
       "2022-01-01 01:00:00                        0.0                   NaN  \n",
       "2022-01-01 02:00:00                        0.0                   NaN  \n",
       "2022-01-01 03:00:00                        0.0                   NaN  \n",
       "2022-01-01 04:00:00                        0.0                   NaN  \n",
       "2022-01-01 05:00:00                        0.0                   NaN  "
      ],
      "text/html": [
       "<div>\n",
       "<style scoped>\n",
       "    .dataframe tbody tr th:only-of-type {\n",
       "        vertical-align: middle;\n",
       "    }\n",
       "\n",
       "    .dataframe tbody tr th {\n",
       "        vertical-align: top;\n",
       "    }\n",
       "\n",
       "    .dataframe thead th {\n",
       "        text-align: right;\n",
       "    }\n",
       "</style>\n",
       "<table border=\"1\" class=\"dataframe\">\n",
       "  <thead>\n",
       "    <tr style=\"text-align: right;\">\n",
       "      <th></th>\n",
       "      <th>load_forecast</th>\n",
       "      <th>coal_power_available</th>\n",
       "      <th>gas_power_available</th>\n",
       "      <th>nucelear_power_available</th>\n",
       "      <th>wind_power_forecasts_average</th>\n",
       "      <th>solar_power_forecasts_average</th>\n",
       "      <th>wind_power_forecasts_std</th>\n",
       "      <th>solar_power_forecasts_std</th>\n",
       "      <th>predicted_spot_price</th>\n",
       "    </tr>\n",
       "    <tr>\n",
       "      <th>DELIVERY_START</th>\n",
       "      <th></th>\n",
       "      <th></th>\n",
       "      <th></th>\n",
       "      <th></th>\n",
       "      <th></th>\n",
       "      <th></th>\n",
       "      <th></th>\n",
       "      <th></th>\n",
       "      <th></th>\n",
       "    </tr>\n",
       "  </thead>\n",
       "  <tbody>\n",
       "    <tr>\n",
       "      <th>2022-01-01 01:00:00</th>\n",
       "      <td>49439.0</td>\n",
       "      <td>3386.0</td>\n",
       "      <td>11487.0</td>\n",
       "      <td>44118.0</td>\n",
       "      <td>3035.0</td>\n",
       "      <td>0.0</td>\n",
       "      <td>79.248348</td>\n",
       "      <td>0.0</td>\n",
       "      <td>NaN</td>\n",
       "    </tr>\n",
       "    <tr>\n",
       "      <th>2022-01-01 02:00:00</th>\n",
       "      <td>46511.0</td>\n",
       "      <td>3386.0</td>\n",
       "      <td>11487.0</td>\n",
       "      <td>44118.0</td>\n",
       "      <td>3143.0</td>\n",
       "      <td>0.0</td>\n",
       "      <td>61.776532</td>\n",
       "      <td>0.0</td>\n",
       "      <td>NaN</td>\n",
       "    </tr>\n",
       "    <tr>\n",
       "      <th>2022-01-01 03:00:00</th>\n",
       "      <td>45158.0</td>\n",
       "      <td>3386.0</td>\n",
       "      <td>11487.0</td>\n",
       "      <td>44118.0</td>\n",
       "      <td>3288.0</td>\n",
       "      <td>0.0</td>\n",
       "      <td>44.291112</td>\n",
       "      <td>0.0</td>\n",
       "      <td>NaN</td>\n",
       "    </tr>\n",
       "    <tr>\n",
       "      <th>2022-01-01 04:00:00</th>\n",
       "      <td>44779.0</td>\n",
       "      <td>3386.0</td>\n",
       "      <td>11487.0</td>\n",
       "      <td>44118.0</td>\n",
       "      <td>3447.0</td>\n",
       "      <td>0.0</td>\n",
       "      <td>36.127588</td>\n",
       "      <td>0.0</td>\n",
       "      <td>NaN</td>\n",
       "    </tr>\n",
       "    <tr>\n",
       "      <th>2022-01-01 05:00:00</th>\n",
       "      <td>45284.0</td>\n",
       "      <td>3386.0</td>\n",
       "      <td>11487.0</td>\n",
       "      <td>44118.0</td>\n",
       "      <td>3679.0</td>\n",
       "      <td>0.0</td>\n",
       "      <td>30.983023</td>\n",
       "      <td>0.0</td>\n",
       "      <td>NaN</td>\n",
       "    </tr>\n",
       "  </tbody>\n",
       "</table>\n",
       "</div>"
      ]
     },
     "execution_count": 3,
     "metadata": {},
     "output_type": "execute_result"
    }
   ],
   "execution_count": 3
  },
  {
   "metadata": {
    "ExecuteTime": {
     "end_time": "2024-10-28T22:52:40.000406Z",
     "start_time": "2024-10-28T22:52:39.800230Z"
    }
   },
   "cell_type": "code",
   "source": [
    "y = pd.read_csv('dataset/y_train.csv').set_index('DELIVERY_START')\n",
    "y.index = pd.to_datetime(y.index, utc=True).tz_convert(None)\n",
    "\n",
    "# fix outliers\n",
    "y.loc[\"2022-04-04 05:00:00\"] = (y.loc[\"2022-04-04 04:00:00\"] + y.loc[\"2022-04-04 07:00:00\"]) / 2\n",
    "y.loc[\"2022-04-04 06:00:00\"] = (y.loc[\"2022-04-04 04:00:00\"] + y.loc[\"2022-04-04 07:00:00\"]) / 2\n",
    "y.head()"
   ],
   "id": "84141f71b7eb6db8",
   "outputs": [
    {
     "data": {
      "text/plain": [
       "                     spot_id_delta\n",
       "DELIVERY_START                    \n",
       "2022-01-01 01:00:00     -36.874770\n",
       "2022-01-01 02:00:00     -12.643588\n",
       "2022-01-01 03:00:00      -1.950193\n",
       "2022-01-01 04:00:00       1.938272\n",
       "2022-01-01 05:00:00       0.199907"
      ],
      "text/html": [
       "<div>\n",
       "<style scoped>\n",
       "    .dataframe tbody tr th:only-of-type {\n",
       "        vertical-align: middle;\n",
       "    }\n",
       "\n",
       "    .dataframe tbody tr th {\n",
       "        vertical-align: top;\n",
       "    }\n",
       "\n",
       "    .dataframe thead th {\n",
       "        text-align: right;\n",
       "    }\n",
       "</style>\n",
       "<table border=\"1\" class=\"dataframe\">\n",
       "  <thead>\n",
       "    <tr style=\"text-align: right;\">\n",
       "      <th></th>\n",
       "      <th>spot_id_delta</th>\n",
       "    </tr>\n",
       "    <tr>\n",
       "      <th>DELIVERY_START</th>\n",
       "      <th></th>\n",
       "    </tr>\n",
       "  </thead>\n",
       "  <tbody>\n",
       "    <tr>\n",
       "      <th>2022-01-01 01:00:00</th>\n",
       "      <td>-36.874770</td>\n",
       "    </tr>\n",
       "    <tr>\n",
       "      <th>2022-01-01 02:00:00</th>\n",
       "      <td>-12.643588</td>\n",
       "    </tr>\n",
       "    <tr>\n",
       "      <th>2022-01-01 03:00:00</th>\n",
       "      <td>-1.950193</td>\n",
       "    </tr>\n",
       "    <tr>\n",
       "      <th>2022-01-01 04:00:00</th>\n",
       "      <td>1.938272</td>\n",
       "    </tr>\n",
       "    <tr>\n",
       "      <th>2022-01-01 05:00:00</th>\n",
       "      <td>0.199907</td>\n",
       "    </tr>\n",
       "  </tbody>\n",
       "</table>\n",
       "</div>"
      ]
     },
     "execution_count": 4,
     "metadata": {},
     "output_type": "execute_result"
    }
   ],
   "execution_count": 4
  },
  {
   "metadata": {
    "ExecuteTime": {
     "end_time": "2024-10-28T22:52:40.277304Z",
     "start_time": "2024-10-28T22:52:40.254766Z"
    }
   },
   "cell_type": "code",
   "source": [
    "def create_time_features(df):\n",
    "    df = df.copy()\n",
    "    df['dayofmonth'] = df.index.day\n",
    "    df['dayofweek'] = df.index.dayofweek\n",
    "    df['hour'] = df.index.hour\n",
    "    return df"
   ],
   "id": "cbb10d8225cf1ee",
   "outputs": [],
   "execution_count": 5
  },
  {
   "metadata": {
    "ExecuteTime": {
     "end_time": "2024-10-28T22:52:41.375411Z",
     "start_time": "2024-10-28T22:52:41.371691Z"
    }
   },
   "cell_type": "code",
   "source": [
    "# initially try using all variables without preprocessing except 'load_forecast' and 'predicted_spot_price' (too many missing points)\n",
    "X_cols = ['coal_power_available', 'gas_power_available',\n",
    "       'nucelear_power_available', 'wind_power_forecasts_average',\n",
    "       'solar_power_forecasts_average', 'wind_power_forecasts_std',\n",
    "       'solar_power_forecasts_std']"
   ],
   "id": "a519913b792840d9",
   "outputs": [],
   "execution_count": 6
  },
  {
   "metadata": {
    "ExecuteTime": {
     "end_time": "2024-10-28T22:52:42.044682Z",
     "start_time": "2024-10-28T22:52:42.029031Z"
    }
   },
   "cell_type": "code",
   "source": "X[X_cols].info()",
   "id": "4b6f201a498b4a3",
   "outputs": [
    {
     "name": "stdout",
     "output_type": "stream",
     "text": [
      "<class 'pandas.core.frame.DataFrame'>\n",
      "DatetimeIndex: 10605 entries, 2022-01-01 01:00:00 to 2023-03-29 21:00:00\n",
      "Data columns (total 7 columns):\n",
      " #   Column                         Non-Null Count  Dtype  \n",
      "---  ------                         --------------  -----  \n",
      " 0   coal_power_available           10604 non-null  float64\n",
      " 1   gas_power_available            10604 non-null  float64\n",
      " 2   nucelear_power_available       10604 non-null  float64\n",
      " 3   wind_power_forecasts_average   10581 non-null  float64\n",
      " 4   solar_power_forecasts_average  10581 non-null  float64\n",
      " 5   wind_power_forecasts_std       10581 non-null  float64\n",
      " 6   solar_power_forecasts_std      10581 non-null  float64\n",
      "dtypes: float64(7)\n",
      "memory usage: 662.8 KB\n"
     ]
    }
   ],
   "execution_count": 7
  },
  {
   "metadata": {
    "ExecuteTime": {
     "end_time": "2024-10-28T22:52:42.241202Z",
     "start_time": "2024-10-28T22:52:42.228420Z"
    }
   },
   "cell_type": "code",
   "source": [
    "X = X.interpolate()\n",
    "X = create_time_features(X)"
   ],
   "id": "484c9206dfad256b",
   "outputs": [],
   "execution_count": 8
  },
  {
   "metadata": {
    "ExecuteTime": {
     "end_time": "2024-10-28T22:52:42.280710Z",
     "start_time": "2024-10-28T22:52:42.266496Z"
    }
   },
   "cell_type": "code",
   "source": [
    "cutoff_date = \"2023-03-01\"\n",
    "X_train = X.loc[:cutoff_date]\n",
    "X_test = X.loc[cutoff_date:]\n",
    "y_train = y.loc[:cutoff_date]\n",
    "y_test = y.loc[cutoff_date:]\n"
   ],
   "id": "cc0efab38b0505b0",
   "outputs": [],
   "execution_count": 9
  },
  {
   "metadata": {},
   "cell_type": "markdown",
   "source": "### train model",
   "id": "e7422eb3f3d04bb8"
  },
  {
   "metadata": {
    "ExecuteTime": {
     "end_time": "2024-10-28T22:52:42.307355Z",
     "start_time": "2024-10-28T22:52:42.303016Z"
    }
   },
   "cell_type": "code",
   "source": [
    "tscv = TimeSeriesSplit(n_splits=10, max_train_size=5000, test_size=500)\n",
    "\n",
    "for train, test in tscv.split(X_train):\n",
    "    print(f\"[{train[0]}, ..., {train[-1]}] [{test[0]}, ..., {test[-1]}]\")"
   ],
   "id": "85c37e3beed5a3c0",
   "outputs": [
    {
     "name": "stdout",
     "output_type": "stream",
     "text": [
      "[0, ..., 4934] [4935, ..., 5434]\n",
      "[435, ..., 5434] [5435, ..., 5934]\n",
      "[935, ..., 5934] [5935, ..., 6434]\n",
      "[1435, ..., 6434] [6435, ..., 6934]\n",
      "[1935, ..., 6934] [6935, ..., 7434]\n",
      "[2435, ..., 7434] [7435, ..., 7934]\n",
      "[2935, ..., 7934] [7935, ..., 8434]\n",
      "[3435, ..., 8434] [8435, ..., 8934]\n",
      "[3935, ..., 8934] [8935, ..., 9434]\n",
      "[4435, ..., 9434] [9435, ..., 9934]\n"
     ]
    }
   ],
   "execution_count": 10
  },
  {
   "metadata": {
    "ExecuteTime": {
     "end_time": "2024-10-28T22:52:53.768372Z",
     "start_time": "2024-10-28T22:52:53.744932Z"
    }
   },
   "cell_type": "code",
   "source": [
    "def objective(trial):\n",
    "    tscv = TimeSeriesSplit(n_splits=10, max_train_size=5000, test_size=500)\n",
    "    params = {\n",
    "        'learning_rate': trial.suggest_categorical('learning_rate', [0.01, 0.05, 0.1]),\n",
    "        'num_leaves': trial.suggest_categorical('num_leaves', [5, 10, 20]),\n",
    "        'max_depth': trial.suggest_categorical('max_depth', [5, 7, 10]),\n",
    "        'min_data_in_leaf': trial.suggest_categorical('min_data_in_leaf', [20, 30, 40]),\n",
    "        'feature_fraction': trial.suggest_categorical('feature_fraction', [0.8, 0.9, 1.0]),\n",
    "        'bagging_fraction': trial.suggest_categorical('bagging_fraction', [0.8, 0.9, 1.0]),\n",
    "        'bagging_freq': trial.suggest_categorical('bagging_freq', [0, 5]),\n",
    "        'lambda_l1': trial.suggest_categorical('lambda_l1', [0, 0.1, 0.5]),\n",
    "        'lambda_l2': trial.suggest_categorical('lambda_l2', [0, 0.1, 0.5]),\n",
    "        'n_estimators': trial.suggest_categorical('n_estimators', [100, 200, 500]),\n",
    "        'verbose': -1\n",
    "    }\n",
    "    \n",
    "    model = lgb.LGBMRegressor(**params)\n",
    "    \n",
    "    mse_arr = []\n",
    "    for train_idx, test_idx in tscv.split(X_train):\n",
    "        X_train_cv = X_train.iloc[train_idx]\n",
    "        X_test_cv = X_train.iloc[test_idx]\n",
    "        y_train_cv = y_train.iloc[train_idx]\n",
    "        y_test_cv = y_train.iloc[test_idx]\n",
    "    \n",
    "        model.fit(X_train_cv, y_train_cv)\n",
    "        pred = model.predict(X_test_cv)\n",
    "        mse = mean_squared_error(y_test_cv, pred)\n",
    "        mse_arr.append(mse)\n",
    "        \n",
    "    return np.mean(mse_arr)\n"
   ],
   "id": "6652c36380dd5a99",
   "outputs": [],
   "execution_count": 12
  },
  {
   "metadata": {
    "ExecuteTime": {
     "end_time": "2024-10-28T22:53:28.180023Z",
     "start_time": "2024-10-28T22:52:55.063150Z"
    }
   },
   "cell_type": "code",
   "source": [
    "study = optuna.create_study(direction=\"minimize\")\n",
    "study.optimize(objective, n_trials=10)\n",
    "\n",
    "print(\"Number of finished trials: {}\".format(len(study.trials)))\n",
    "print(\"Best trial:\")\n",
    "\n",
    "trial = study.best_trial\n",
    "\n",
    "print(\"  Value: {}\".format(trial.value))\n",
    "print(\"  Params: \")\n",
    "\n",
    "for key, value in trial.params.items():\n",
    "    print(\"    {}: {}\".format(key, value))"
   ],
   "id": "85c2743a47718617",
   "outputs": [
    {
     "name": "stderr",
     "output_type": "stream",
     "text": [
      "[I 2024-10-28 23:52:55,065] A new study created in memory with name: no-name-48c3d2f7-2e68-41e9-9398-1ca9cc262328\n",
      "[I 2024-10-28 23:52:56,656] Trial 0 finished with value: 1232.4476903783786 and parameters: {'learning_rate': 0.01, 'num_leaves': 10, 'max_depth': 5, 'min_data_in_leaf': 40, 'feature_fraction': 0.9, 'bagging_fraction': 1.0, 'bagging_freq': 0, 'lambda_l1': 0.5, 'lambda_l2': 0.5, 'n_estimators': 100}. Best is trial 0 with value: 1232.4476903783786.\n",
      "[I 2024-10-28 23:53:03,259] Trial 1 finished with value: 1224.9217975546949 and parameters: {'learning_rate': 0.01, 'num_leaves': 10, 'max_depth': 10, 'min_data_in_leaf': 30, 'feature_fraction': 0.8, 'bagging_fraction': 1.0, 'bagging_freq': 0, 'lambda_l1': 0.5, 'lambda_l2': 0, 'n_estimators': 500}. Best is trial 1 with value: 1224.9217975546949.\n",
      "[I 2024-10-28 23:53:04,049] Trial 2 finished with value: 1229.2610813271663 and parameters: {'learning_rate': 0.1, 'num_leaves': 5, 'max_depth': 10, 'min_data_in_leaf': 20, 'feature_fraction': 1.0, 'bagging_fraction': 1.0, 'bagging_freq': 0, 'lambda_l1': 0.1, 'lambda_l2': 0.1, 'n_estimators': 100}. Best is trial 1 with value: 1224.9217975546949.\n",
      "[I 2024-10-28 23:53:06,902] Trial 3 finished with value: 1223.8873022502278 and parameters: {'learning_rate': 0.01, 'num_leaves': 10, 'max_depth': 10, 'min_data_in_leaf': 40, 'feature_fraction': 1.0, 'bagging_fraction': 0.8, 'bagging_freq': 0, 'lambda_l1': 0.1, 'lambda_l2': 0.1, 'n_estimators': 200}. Best is trial 3 with value: 1223.8873022502278.\n",
      "[I 2024-10-28 23:53:18,812] Trial 4 finished with value: 1313.2064595400614 and parameters: {'learning_rate': 0.05, 'num_leaves': 20, 'max_depth': 10, 'min_data_in_leaf': 20, 'feature_fraction': 0.8, 'bagging_fraction': 1.0, 'bagging_freq': 5, 'lambda_l1': 0.5, 'lambda_l2': 0, 'n_estimators': 500}. Best is trial 3 with value: 1223.8873022502278.\n",
      "[I 2024-10-28 23:53:19,655] Trial 5 finished with value: 1235.7138109228447 and parameters: {'learning_rate': 0.01, 'num_leaves': 5, 'max_depth': 7, 'min_data_in_leaf': 40, 'feature_fraction': 1.0, 'bagging_fraction': 0.8, 'bagging_freq': 0, 'lambda_l1': 0, 'lambda_l2': 0, 'n_estimators': 100}. Best is trial 3 with value: 1223.8873022502278.\n",
      "[I 2024-10-28 23:53:21,224] Trial 6 finished with value: 1192.6398245646044 and parameters: {'learning_rate': 0.01, 'num_leaves': 5, 'max_depth': 5, 'min_data_in_leaf': 20, 'feature_fraction': 0.9, 'bagging_fraction': 0.8, 'bagging_freq': 0, 'lambda_l1': 0.5, 'lambda_l2': 0.1, 'n_estimators': 200}. Best is trial 6 with value: 1192.6398245646044.\n",
      "[I 2024-10-28 23:53:22,641] Trial 7 finished with value: 1227.9082343903488 and parameters: {'learning_rate': 0.05, 'num_leaves': 10, 'max_depth': 7, 'min_data_in_leaf': 30, 'feature_fraction': 1.0, 'bagging_fraction': 1.0, 'bagging_freq': 5, 'lambda_l1': 0.5, 'lambda_l2': 0.5, 'n_estimators': 100}. Best is trial 6 with value: 1192.6398245646044.\n",
      "[I 2024-10-28 23:53:24,576] Trial 8 finished with value: 1250.9115881452415 and parameters: {'learning_rate': 0.05, 'num_leaves': 20, 'max_depth': 5, 'min_data_in_leaf': 40, 'feature_fraction': 1.0, 'bagging_fraction': 1.0, 'bagging_freq': 0, 'lambda_l1': 0.1, 'lambda_l2': 0.5, 'n_estimators': 100}. Best is trial 6 with value: 1192.6398245646044.\n",
      "[I 2024-10-28 23:53:28,176] Trial 9 finished with value: 1333.8939452402496 and parameters: {'learning_rate': 0.1, 'num_leaves': 5, 'max_depth': 7, 'min_data_in_leaf': 30, 'feature_fraction': 0.8, 'bagging_fraction': 1.0, 'bagging_freq': 0, 'lambda_l1': 0, 'lambda_l2': 0.5, 'n_estimators': 500}. Best is trial 6 with value: 1192.6398245646044.\n"
     ]
    },
    {
     "name": "stdout",
     "output_type": "stream",
     "text": [
      "Number of finished trials: 10\n",
      "Best trial:\n",
      "  Value: 1192.6398245646044\n",
      "  Params: \n",
      "    learning_rate: 0.01\n",
      "    num_leaves: 5\n",
      "    max_depth: 5\n",
      "    min_data_in_leaf: 20\n",
      "    feature_fraction: 0.9\n",
      "    bagging_fraction: 0.8\n",
      "    bagging_freq: 0\n",
      "    lambda_l1: 0.5\n",
      "    lambda_l2: 0.1\n",
      "    n_estimators: 200\n"
     ]
    }
   ],
   "execution_count": 13
  },
  {
   "metadata": {},
   "cell_type": "markdown",
   "source": "### Test model with found hyperparams",
   "id": "a618d1e7404869be"
  },
  {
   "metadata": {
    "ExecuteTime": {
     "end_time": "2024-10-28T22:57:19.361488Z",
     "start_time": "2024-10-28T22:57:19.350709Z"
    }
   },
   "cell_type": "code",
   "source": "model = lgb.LGBMRegressor(**trial.params)",
   "id": "8a1acba18806484e",
   "outputs": [],
   "execution_count": 15
  },
  {
   "metadata": {
    "ExecuteTime": {
     "end_time": "2024-10-28T22:57:19.678140Z",
     "start_time": "2024-10-28T22:57:19.489915Z"
    }
   },
   "cell_type": "code",
   "source": [
    "model.fit(X_train, y_train)\n",
    "pred = model.predict(X_test)"
   ],
   "id": "47fed2d9ec70cdf1",
   "outputs": [],
   "execution_count": 16
  },
  {
   "metadata": {
    "ExecuteTime": {
     "end_time": "2024-10-28T23:01:42.371359Z",
     "start_time": "2024-10-28T23:01:42.359467Z"
    }
   },
   "cell_type": "code",
   "source": [
    "results_df = y_test.copy()\n",
    "results_df['pred'] = pred"
   ],
   "id": "bb1df42229ca629a",
   "outputs": [],
   "execution_count": 28
  },
  {
   "metadata": {
    "ExecuteTime": {
     "end_time": "2024-10-28T23:01:50.621849Z",
     "start_time": "2024-10-28T23:01:50.389530Z"
    }
   },
   "cell_type": "code",
   "source": "results_df.plot()",
   "id": "4ee76cf6e62d4ddd",
   "outputs": [
    {
     "data": {
      "text/plain": [
       "<Axes: xlabel='DELIVERY_START'>"
      ]
     },
     "execution_count": 29,
     "metadata": {},
     "output_type": "execute_result"
    },
    {
     "data": {
      "text/plain": [
       "<Figure size 640x480 with 1 Axes>"
      ],
      "image/png": "[encoded data removed]"
     },
     "metadata": {},
     "output_type": "display_data"
    }
   ],
   "execution_count": 29
  },
  {
   "metadata": {},
   "cell_type": "code",
   "outputs": [],
   "execution_count": null,
   "source": "",
   "id": "6943519a06571b4c"
  }
 ],
 "metadata": {
  "kernelspec": {
   "display_name": "Python 3",
   "language": "python",
   "name": "python3"
  },
  "language_info": {
   "codemirror_mode": {
    "name": "ipython",
    "version": 2
   },
   "file_extension": ".py",
   "mimetype": "text/x-python",
   "name": "python",
   "nbconvert_exporter": "python",
   "pygments_lexer": "ipython2",
   "version": "2.7.6"
  }
 },
 "nbformat": 4,
 "nbformat_minor": 5
}
